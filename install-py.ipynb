{
 "cells": [
  {
   "cell_type": "code",
   "execution_count": null,
   "id": "beeec755-1c8c-4017-bb96-cba85a0701c1",
   "metadata": {},
   "outputs": [],
   "source": [
    "#安装指定版本的python"
   ]
  },
  {
   "cell_type": "code",
   "execution_count": null,
   "id": "b21ce689-b567-4089-b0f8-e12815ddb1ec",
   "metadata": {},
   "outputs": [],
   "source": [
    "##安装依赖\n",
    "sudo apt update\n",
    "sudo apt install build-essential zlib1g-dev libncurses5-dev libgdbm-dev libnss3-dev libssl-dev libreadline-dev libffi-dev libsqlite3-dev wget libbz2-dev\n"
   ]
  },
  {
   "cell_type": "code",
   "execution_count": null,
   "id": "c6049c32-84c4-4523-9a83-9c2fec13faaf",
   "metadata": {},
   "outputs": [],
   "source": [
    "##下载指定版本的python\n",
    "wget https://www.python.org/ftp/python/3.10.6/Python-3.10.6.tgz\n",
    "##解压进入目录\n",
    "tar -zvxf Python-3.10.6.tgz\n",
    "cd Python-3.10.6\n",
    "##安装\n",
    "./configure --enable-optimizations\n",
    "make\n",
    "make install\n",
    "## 验证安装结果\n",
    "python3.10 --version\n",
    "which python3.10\n",
    "## 删除原有软连，添加新的\n",
    "rm /usr/bin/python\n",
    "ln -s /usr/local/bin/python3.10 /usr/bin/python\n",
    "## 设置python的环境变量\n",
    "vim  ~/.bashrc \n",
    "## 添加别名\n",
    "alias python='/usr/local/bin/python3.10'\n",
    "alias python3='/usr/local/bin/python3.10'\n",
    "source ~/.bashrc"
   ]
  },
  {
   "cell_type": "code",
   "execution_count": null,
   "id": "d3006a6d-f0f2-4272-a49f-af1ed85d2ff1",
   "metadata": {},
   "outputs": [],
   "source": [
    "## 更新pip默认指向\n",
    "rm /usr/bin/pip     #如果原来有pip的链接先删除，没有的话，这步不用管。\n",
    "ln -s /usr/local/bin/pip3.10 /usr/bin/pip\n",
    "## 添加别名\n",
    "alias pip='/usr/local/bin/pip3.10'\n",
    "alias pip3='/usr/local/bin/pip3.10'\n",
    "source ~/.bashrc\n",
    "##测试\n",
    "pip -V\n"
   ]
  }
 ],
 "metadata": {
  "kernelspec": {
   "display_name": "Python 3 (ipykernel)",
   "language": "python",
   "name": "python3"
  },
  "language_info": {
   "codemirror_mode": {
    "name": "ipython",
    "version": 3
   },
   "file_extension": ".py",
   "mimetype": "text/x-python",
   "name": "python",
   "nbconvert_exporter": "python",
   "pygments_lexer": "ipython3",
   "version": "3.8.19"
  }
 },
 "nbformat": 4,
 "nbformat_minor": 5
}
