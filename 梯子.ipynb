{
 "cells": [
  {
   "cell_type": "markdown",
   "id": "6218cfaa-c5b6-41af-9ffe-d94c06215500",
   "metadata": {},
   "source": [
    "# 客户端实现代理"
   ]
  },
  {
   "cell_type": "markdown",
   "id": "20d3fba1-2fd5-471e-854f-21c8b308ab20",
   "metadata": {},
   "source": [
    "## 安装shadowsocks"
   ]
  },
  {
   "cell_type": "code",
   "execution_count": 1,
   "id": "249fc584-4af5-49c1-9eb8-e34a812d4bf3",
   "metadata": {},
   "outputs": [
    {
     "name": "stdout",
     "output_type": "stream",
     "text": [
      "Looking in indexes: https://pypi.tuna.tsinghua.edu.cn/simple\n",
      "Requirement already satisfied: shadowsocks in /root/miniconda/envs/modellink_py3.8/lib/python3.8/site-packages (2.8.2)\n",
      "\u001b[33mDEPRECATION: apex 0.1-ascend has a non-standard version number. pip 24.1 will enforce this behaviour change. A possible replacement is to upgrade to a newer version of apex or contact the author to suggest that they release a version with a conforming version number. Discussion can be found at https://github.com/pypa/pip/issues/12063\u001b[0m\u001b[33m\n",
      "\u001b[0m\u001b[33mWARNING: Running pip as the 'root' user can result in broken permissions and conflicting behaviour with the system package manager. It is recommended to use a virtual environment instead: https://pip.pypa.io/warnings/venv\u001b[0m\u001b[33m\n",
      "\u001b[0mNote: you may need to restart the kernel to use updated packages.\n"
     ]
    }
   ],
   "source": [
    "pip install shadowsocks"
   ]
  },
  {
   "cell_type": "markdown",
   "id": "37daa2bf-6294-47da-8a86-9f63b4f0cdd0",
   "metadata": {},
   "source": [
    "## 通过配置文件传入，编辑了/etc/shadowsocks/config.json文件，其中server, server_port和password都需要根据自己的情况设置"
   ]
  },
  {
   "cell_type": "markdown",
   "id": "0b960c45-df60-4fd6-bdea-51514a117e57",
   "metadata": {},
   "source": [
    "{\n",
    "    \"server\": \"144.168.58.91\",\n",
    "    \"server_port\": 10000,\n",
    "    \"password\": \"**********\",\n",
    "    \"local_address\": \"127.0.0.1\",\n",
    "    \"local_port\": 1080,\n",
    "    \"method\": \"aes-256-cfb\"\n",
    "}"
   ]
  },
  {
   "cell_type": "markdown",
   "id": "3836dc5c-28f4-41a6-bc35-6f61992b585d",
   "metadata": {},
   "source": [
    "## 启动客户端，启动之后，shadowsocks就在localhost的1080端口接受请求了"
   ]
  },
  {
   "cell_type": "code",
   "execution_count": null,
   "id": "7b4e1be8-c4e1-41fb-9bf5-66f3a002e5e0",
   "metadata": {},
   "outputs": [],
   "source": [
    "sslocal -c /etc/shadowsocks/config.json"
   ]
  },
  {
   "cell_type": "markdown",
   "id": "41e95ae1-c0cb-48cd-beff-6f7c07237a44",
   "metadata": {},
   "source": [
    "如果在安装完Shadows后，启动时报\n",
    "AttributeError: /usr/local/ssl/lib/libcrypto.so.1.1: undefined symbol: EVP_CIPHER_CTX_cleanup\n",
    "shadows start failed\n",
    "通过下面命令知道文件，并修改,搜索CIPHER_CTX_cleanup，应该有两处，替换为CIPHER_CTX_reset，然后保存文件"
   ]
  },
  {
   "cell_type": "code",
   "execution_count": null,
   "id": "417666d4-c7dc-4e2a-86f7-6794b4b44f77",
   "metadata": {},
   "outputs": [],
   "source": [
    "find / -name openssl.py"
   ]
  },
  {
   "cell_type": "code",
   "execution_count": null,
   "id": "3c44f070-59a6-4f9a-870f-58ae9b643801",
   "metadata": {},
   "outputs": [],
   "source": [
    "重新启动即可"
   ]
  },
  {
   "cell_type": "markdown",
   "id": "78efab04-f0c6-4f10-a56c-6bbab07f1f8a",
   "metadata": {},
   "source": [
    "## 如何使用"
   ]
  },
  {
   "cell_type": "markdown",
   "id": "116337a8-31c5-49fe-9096-fee4d7d34ddf",
   "metadata": {},
   "source": [
    "把代理服务器地址写入 shell 配置文件.bashrc或者.zshrc\n",
    "直接在.bashrc或者.zshrc添加下面内容\n",
    "以使用 shadowsocks 代理为例，ss 的代理端口为1080, 那么应该设置为"
   ]
  },
  {
   "cell_type": "markdown",
   "id": "7af3d3c5-657b-4927-b602-058740c0c445",
   "metadata": {},
   "source": [
    "export http_proxy=\"socks5://127.0.0.1:1080\"\n",
    "export https_proxy=\"socks5://127.0.0.1:1080\""
   ]
  },
  {
   "cell_type": "markdown",
   "id": "e2bf2b06-982b-4917-a3c8-467ec464d053",
   "metadata": {},
   "source": [
    "直接设置 ALL_PROXY"
   ]
  },
  {
   "cell_type": "markdown",
   "id": "a9aee494-d396-4f58-a269-817449aead98",
   "metadata": {},
   "source": [
    "export ALL_PROXY=socks5://127.0.0.1:1080"
   ]
  },
  {
   "cell_type": "markdown",
   "id": "74327a45-6054-42ff-8f4e-6b0634b64b62",
   "metadata": {},
   "source": [
    "## 验证"
   ]
  }
 ],
 "metadata": {
  "kernelspec": {
   "display_name": "Python 3 (ipykernel)",
   "language": "python",
   "name": "python3"
  },
  "language_info": {
   "codemirror_mode": {
    "name": "ipython",
    "version": 3
   },
   "file_extension": ".py",
   "mimetype": "text/x-python",
   "name": "python",
   "nbconvert_exporter": "python",
   "pygments_lexer": "ipython3",
   "version": "3.8.19"
  }
 },
 "nbformat": 4,
 "nbformat_minor": 5
}
